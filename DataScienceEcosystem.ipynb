{
 "cells": [
  {
   "cell_type": "markdown",
   "id": "04e0aa90-d105-4d28-9dee-69baa44f010c",
   "metadata": {
    "tags": []
   },
   "source": [
    "# Data science tools and ecosystem"
   ]
  },
  {
   "cell_type": "markdown",
   "id": "09faae7f-dcb2-4aa0-b301-2fecc2c202a4",
   "metadata": {},
   "source": [
    "## In this data science tools and ecosystems are summarized\n"
   ]
  },
  {
   "cell_type": "markdown",
   "id": "33c18e6f-1786-4bb6-bf75-ded810284789",
   "metadata": {},
   "source": [
    "#### Objectives:\n",
    "- We have learned in this course that for different stages in data science we use a different tools.\n",
    "- Every language we have studied in this course has a significant role in its domain.\n",
    "- We have also learned that there are lot of stages through which data is being processed and in each and every stage different type of tools and software are use according to the need.\n",
    "- Online Platforms which are really important in working with data which are shared so that different organization around can work as accordingly through those platform."
   ]
  },
  {
   "cell_type": "markdown",
   "id": "4de4c271-136e-4e62-8900-281fe1e67745",
   "metadata": {},
   "source": [
    "### some of the famous language data scientist use are:\n",
    "1. python\n",
    "2. R\n",
    "3. Julia\n",
    "4. Scala\n",
    "5. Swift\n",
    "6. SQL\n"
   ]
  },
  {
   "cell_type": "markdown",
   "id": "9a81f4f7-659d-44a3-ad4c-c1568f5dfd96",
   "metadata": {},
   "source": [
    "### some of the most common libraries being used in data science \n",
    "1. Panda\n",
    "2. Numpy\n",
    "3. Pytorch\n",
    "4. Tensorflow\n",
    "5. Sci-Kit learn\n",
    "6. Matplotlib\n",
    "7. Scipy\n",
    "8. Keras\n"
   ]
  },
  {
   "cell_type": "markdown",
   "id": "972a4761-2c78-42ca-aa56-b798f466e443",
   "metadata": {},
   "source": [
    "\n",
    "|Data science tools|\n",
    "|------------------|\n",
    "|Rstudio           |\n",
    "|Apache spark      |\n",
    "|Tensor flow       |\n",
    "|Apache hadoop     |"
   ]
  },
  {
   "cell_type": "markdown",
   "id": "ac1a0a65-9396-47e7-bfda-2ae39f77b31d",
   "metadata": {},
   "source": [
    "### Below are a few examples of evaluating arithmetic expressions in Python:"
   ]
  },
  {
   "cell_type": "code",
   "execution_count": 4,
   "id": "9b639685-27b8-48c2-8e53-da33a383af04",
   "metadata": {
    "tags": []
   },
   "outputs": [
    {
     "data": {
      "text/plain": [
       "54"
      ]
     },
     "execution_count": 4,
     "metadata": {},
     "output_type": "execute_result"
    }
   ],
   "source": [
    "9*6\n"
   ]
  },
  {
   "cell_type": "code",
   "execution_count": 3,
   "id": "a363148a-38a4-481f-a4fd-3a51ccdcdde2",
   "metadata": {
    "tags": []
   },
   "outputs": [
    {
     "data": {
      "text/plain": [
       "7"
      ]
     },
     "execution_count": 3,
     "metadata": {},
     "output_type": "execute_result"
    }
   ],
   "source": [
    "3+4"
   ]
  },
  {
   "cell_type": "code",
   "execution_count": 2,
   "id": "012a0546-9d5d-4761-84d8-b801fc59996d",
   "metadata": {
    "tags": []
   },
   "outputs": [
    {
     "data": {
      "text/plain": [
       "17"
      ]
     },
     "execution_count": 2,
     "metadata": {},
     "output_type": "execute_result"
    }
   ],
   "source": [
    "(3*4)+5\n",
    "# This a simple arithmetic expression to mutiply then add integers."
   ]
  },
  {
   "cell_type": "code",
   "execution_count": 5,
   "id": "1a687662-4823-458e-8ddf-58956e4eb959",
   "metadata": {
    "tags": []
   },
   "outputs": [
    {
     "data": {
      "text/plain": [
       "3.3333333333333335"
      ]
     },
     "execution_count": 5,
     "metadata": {},
     "output_type": "execute_result"
    }
   ],
   "source": [
    "# In this code cell we will convert 200 minutes in to Hours\n",
    "200/60\n",
    "# The answer generated will be in hours"
   ]
  },
  {
   "cell_type": "markdown",
   "id": "20b080e0-19dc-440a-95b2-17aff142801b",
   "metadata": {},
   "source": [
    "## Author\n",
    "Murtaza javed"
   ]
  },
  {
   "cell_type": "code",
   "execution_count": null,
   "id": "4922f34e-2b75-4430-bc6b-205d48671e75",
   "metadata": {},
   "outputs": [],
   "source": []
  }
 ],
 "metadata": {
  "kernelspec": {
   "display_name": "Python",
   "language": "python",
   "name": "conda-env-python-py"
  },
  "language_info": {
   "codemirror_mode": {
    "name": "ipython",
    "version": 3
   },
   "file_extension": ".py",
   "mimetype": "text/x-python",
   "name": "python",
   "nbconvert_exporter": "python",
   "pygments_lexer": "ipython3",
   "version": "3.7.12"
  }
 },
 "nbformat": 4,
 "nbformat_minor": 5
}
